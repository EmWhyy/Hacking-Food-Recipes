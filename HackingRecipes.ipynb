{
 "cells": [
  {
   "cell_type": "markdown",
   "id": "c685c77a-b540-4bb2-8ea5-1b86f9ce5fb4",
   "metadata": {},
   "source": [
    "Inferring Recipes\n",
    "---\n",
    "University of Tübingen, Winter Term 2022/23\n",
    "&copy; P. Hennig, 2022 CC BY-NC-SA 3.0\n",
    "\n",
    "\n",
    "Have you ever wondered what goes into your (processed) food? Here is the back of a jar of \"vegan liver paté\":\n",
    "\n",
    "<!-- <img src=\"Hedi_Leberwurst - 2.jpeg\" style=\"height: 300px;\"/> <img src=\"Hedi_Leberwurst - 3.jpeg\" style=\"height: 300px;\"/> -->\n",
    "<img src=\"HediLeberwurst.png\" style=\"height: 300px;\"/>\n",
    "\n",
    "In the EU, all contents of the product <a href=\"https://europa.eu/youreurope/business/product-requirements/food-labelling/general-rules/index_en.htm\">have to be listed in descending order of their proportion by weight</a>. So if one ingredient (\"Rapsöl\") is listed before another on (\"Röstzwiebeln\"), this means there is more of the former ingredient in there then of the latter. So if $x\\in\\mathbb{R}^D$ is a vector of the proportions $0\\leq x_i\\leq 1$ of the $D$ ingredients, then the order of the ingredients printed on the back of the jar defines a **linear program** of the general form\n",
    "\\begin{align} \n",
    "Ax &\\leq a \\\\\n",
    "Bx &= b\n",
    "\\end{align}\n",
    "(the $\\leq$ is convention, $\\geq$ inequalities can be realised as a line in $Ax = a$ by multiplying with $-1$), and thus a **likelihood** over the simplex of ingredient proportions\n",
    "$$ p(A,a,B,b \\mid x) = \\begin{cases} 1 &\\text{if $Ax\\leq a$ and $Bx=b$} \\\\ 0 &\\text{else}\\end{cases} $$\n",
    "Our goal this week will be to do Bayesian inference, using Markov Chain Monte Carlo, over this polytope to infer possible recipes for industrially produced food (from a *uniform* prior over the polytope)."
   ]
  },
  {
   "cell_type": "markdown",
   "id": "aab95048-ee1b-4110-8869-f515e877140e",
   "metadata": {},
   "source": [
    "Let's first get the mechanics out of the way by defining the linear program:"
   ]
  },
  {
   "cell_type": "code",
   "execution_count": 4,
   "id": "8fdc8757-36a9-4a0d-bf0e-a9ed62e5577d",
   "metadata": {
    "tags": []
   },
   "outputs": [],
   "source": [
    "import numpy as np\n",
    "from matplotlib import pyplot as plt\n",
    "from matplotlib import ticker\n",
    "from numpy.random import rand, randn\n",
    "from tqdm import tqdm\n",
    "from tueplots import bundles\n",
    "from tueplots.constants.color import rgb\n",
    "\n",
    "plt.rcParams.update(bundles.beamer_moml())\n",
    "plt.rcParams.update({\"figure.dpi\": 200})"
   ]
  },
  {
   "cell_type": "code",
   "execution_count": 5,
   "id": "b47323ac-2698-43c3-bf89-d4ab4c6501a3",
   "metadata": {
    "tags": []
   },
   "outputs": [
    {
     "name": "stdout",
     "output_type": "stream",
     "text": [
      "8 ingredients in total\n"
     ]
    },
    {
     "data": {
      "image/png": "[encoded data removed]",
      "text/plain": [
       "<Figure size 1102.36x310.039 with 2 Axes>"
      ]
     },
     "metadata": {},
     "output_type": "display_data"
    }
   ],
   "source": [
    "Zutaten = [\n",
    "    \"gek. Hülsenfrüchte (braune Berglinsen)\",\n",
    "    \"Kokosfett\",\n",
    "    \"Sonnenblumenöl\",\n",
    "    \"geröstete Zwiebeln (in Sonnenblumenöl)\",\n",
    "    \"Zitronensaft\",\n",
    "    \"Gewürze\",\n",
    "    \"Agavendicksaft\",\n",
    "    \"geräuchertes Meersalz\",\n",
    "]\n",
    "\n",
    "D = len(Zutaten)\n",
    "print(f\"{D} ingredients in total\")\n",
    "\n",
    "# WE NEED 2D - 1 INEQUALITIES:\n",
    "# * all variables should be >0: (D inequality constraints)\n",
    "# * the i-th variable is larger than the i+1-th variable, for all i in [1,D-1] (D-1 inequalities)\n",
    "#\n",
    "# AND 3 EQUALITIES:\n",
    "# * all variables should sum to 1 (the D-simplex, 1 equality)\n",
    "# * the first variable (gek. Linsen) is 0.63 (1 equality)\n",
    "# * the 8th variable (Salz) is equal to 0.016 (1 equality)\n",
    "\n",
    "# inequalities\n",
    "A = np.zeros((D + D - 1, D))\n",
    "a = np.zeros(D + D - 1)\n",
    "\n",
    "# first, the >=0 inequality\n",
    "A[0:D, 0:D] = -np.eye(D)  # note the minus, for the >= equality\n",
    "a[0:D] = 0\n",
    "\n",
    "# then the ordering:\n",
    "for i in range(D - 1):\n",
    "    A[D + i, i + 1] = 1\n",
    "    A[D + i, i] = -1\n",
    "    a[D + i] = 0\n",
    "\n",
    "# equalities\n",
    "B = np.zeros((3, D))\n",
    "b = np.zeros(3)\n",
    "\n",
    "# they all sum to 1:\n",
    "B[0, :] = 1\n",
    "b[0] = 1\n",
    "\n",
    "# the first variable (Linsen) is 0.63:\n",
    "B[1, 0] = 1\n",
    "b[1] = 0.63\n",
    "\n",
    "# * the 8th variable (Salz) is equal to 0.016 (1 equality)\n",
    "B[2, 7] = 1\n",
    "b[2] = 0.016\n",
    "\n",
    "plt.rcParams.update(bundles.beamer_moml(rel_height=0.5))\n",
    "# Set font because it uses a font which is not on every computer\n",
    "plt.rcParams['font.family'] = 'Arial'\n",
    "fig, axs = plt.subplots(1, 2)\n",
    "imA = axs[0].imshow(A, vmin=-1, vmax=1)\n",
    "axs[0].set_title(\"A\")\n",
    "imB = axs[1].imshow(B, vmin=-1, vmax=1)\n",
    "axs[1].set_title(\"B\")\n",
    "# fig.colorbar(imA, ax=axs[1]);\n",
    "plt.savefig(\"matrices.pdf\")"
   ]
  },
  {
   "cell_type": "markdown",
   "id": "5bb1b097-c4b4-4685-890d-c1ff1bac3ef2",
   "metadata": {},
   "source": [
    "#### The Algorithm:\n",
    "\n",
    "We will implement a specially adapted version of **Slice Sampling** (invented by <a href=\"https://projecteuclid.org/journals/annals-of-statistics/volume-31/issue-3/Slice-sampling/10.1214/aos/1056562461.full\">Radford Neal in 2003</a>). Before you continue, read <a href=\"https://en.wikipedia.org/wiki/Slice_sampling\">the Wikipedia article on slice sampling</a>.\n",
    "\n",
    "Slice sampling is an elegant adaptive MCMC algorithm that draws from $p(x)$ at a current Markov chain state $x_i$ by uniformly drawing along a univariate *slice* through $x$ of the width of $p(x)$ at (uniformly) randomly drawn height $[0,p(x_i)]$. Slice sampling is a general algorithm for densities $p(x)$. But our density is special: It is a uniform density over a linearly constrained polytope. In some ways this simplifies things and allows particularly efficient forms of slice sampling: Because our density is uniform over the polytope, we actually do not need to draw heights of the slices (because the resulting slices would be of the same width at all heights), and we will find below that we can compute the width of the slice analytically. Our setting also complicates things in one way: Because the density vanishes ($p(x)=0$) for $x$ outside of the polytope, we first need to find a point inside of the polytope before we start.\n",
    "\n",
    "In short, our algorithm will thus look as follows:\n",
    "\n",
    "1. Find a starting point $x_0$ *inside* of the polytope allowed by the likelihood.\n",
    "2. while(True), do:\n",
    "    1. draw a direction $s \\in \\mathbb{R}^D$ uniformly within the polytope (i.e. ensure that equality constraints are satisfied such that $x_i + \\alpha s$ is inside of the polytope for all $\\alpha\\in(-1,1)$ and outside of it (or on its boundary) for all other $\\alpha$.\n",
    "    2. draw a new location $x_{i+1} = x_i + u s$ where $u$ is a uniform random variable in $(-1,1)$."
   ]
  },
  {
   "cell_type": "markdown",
   "id": "91773559-8161-4898-99d7-59480132eb4c",
   "metadata": {},
   "source": [
    "#### your first task: \n",
    "\n",
    "Make use of `scipy.optimize.linprog` to define a function `find_initial_point(A, a, B, b)` that finds a point $x_0$ *inside* of the polytope. \n",
    "\n",
    "As always when using a packaged numerical algorithm, it is a good idea to <a href=\"https://docs.scipy.org/doc/scipy/reference/generated/scipy.optimize.linprog.html\">read the manual</a>. It will tell you that this wrapper provides access to highly optimized versions of the <a href=\"https://en.wikipedia.org/wiki/Simplex_algorithm\">simplex algorithm</a> and <a href=\"https://en.wikipedia.org/wiki/Linear_programming#Interior_point\">interior point methods</a>."
   ]
  },
  {
   "cell_type": "code",
   "execution_count": 6,
   "id": "c5015323-4a2e-4a65-8f3e-261504c62f1b",
   "metadata": {
    "tags": []
   },
   "outputs": [],
   "source": [
    "from scipy.optimize import linprog\n",
    "\n",
    "\n",
    "def find_initial_point(A, a, B, b):\n",
    "    D = A.shape[1]\n",
    "    out = linprog(np.ones(D), A_ub=A, b_ub=a, A_eq=B, b_eq=b)\n",
    "    return out.x"
   ]
  },
  {
   "cell_type": "code",
   "execution_count": 12,
   "id": "9c28cacc-c68c-4072-93d1-11e27f18a2b8",
   "metadata": {
    "tags": []
   },
   "outputs": [
    {
     "name": "stdout",
     "output_type": "stream",
     "text": [
      "Test for inequalities: False\n",
      "Test for equalities: True\n"
     ]
    }
   ],
   "source": [
    "x0 = find_initial_point(A, a, B, b)\n",
    "\n",
    "# check your implementation:\n",
    "print(f\"Test for inequalities: {np.all(A @ x0 - a < 0)}\")\n",
    "print(f\"Test for equalities: {np.allclose(B @ x0 - b,0)}\")"
   ]
  },
  {
   "cell_type": "markdown",
   "id": "f932869e-6a14-49db-9ad9-a895f9955644",
   "metadata": {},
   "source": [
    "#### your second task:\n",
    "\n",
    "The trickiest part of our problem is to **find slice directions inside of the polytope**. Note that once we have a point $x_i$ that satisfies the inequality constraints (i.e. $Ax-a \\leq 0$) then, for any $s \\in \\mathbb{R}^D$, there exists an $\\epsilon>0$ such that $x_i+\\epsilon s$ also satisfies these constraints. So the *in*equality constraints are actually not much of a problem. But the *equality* constraints $Bx-b=0# are. \n",
    "\n",
    "Define a function `construct_directions(B)` that *returns a function* `sample`, which itself returns a direction $s$ such that if $Bx-b=0$, then $B(x+\\alpha u) = 0$ for all $\\alpha$.\n",
    "\n",
    "**Hint**: Note that this task is similar to Gaussian inference with vanishing measurement noise: For measurements $p(b\\mid x) = \\mathcal{N}(b;Bx,\\sigma^2)$ under the prior $p(x)=\\mathcal{N}(x;0,I)$, with noise variance $\\sigma^2$, the posterior covariance would be\n",
    "$$ \\Sigma = I - B^T(BB^T + \\sigma^2 I)^{-1} B$$\n",
    "Unfortunately, simply implementing this matrix in the standard way (i.e. with Cholesky) won't work for $\\sigma^2 \\to 0$. \n",
    "\n",
    "However, we can use the SVD $B = QDU^T$ with $BB^T = QD^2 Q^T$ to write\n",
    "$$ B^T (B B^T)^{-1} B = UDQ^T(Q D^{-2} Q^T) Q D U^T = UU^T. $$\n",
    "So see if you can use `np.linalg.svd` to find a solution. Make sure to read about its `full_matrices` optional argument."
   ]
  },
  {
   "cell_type": "code",
   "execution_count": 14,
   "id": "fc1623ee-cf2e-4465-8b56-0dfa7e960654",
   "metadata": {
    "tags": []
   },
   "outputs": [],
   "source": [
    "def construct_directions(B):\n",
    "    \"\"\"\n",
    "    The main challenge here is to ensure the equality constraints remain satisfied\n",
    "    Naïvely using random.multivariatenormal or similar typically adds a \"nugget\",\n",
    "    a minimal amount of \"noise\" to the covariance's diagonal, which messes up the\n",
    "    equality constaraints. We solve this by actually computing the SVD manually, and\n",
    "    then setting all directions that have nearly zero singular values to an actual zero.\n",
    "    \"\"\"\n",
    "\n",
    "    _, D = B.shape\n",
    "    q, s, ut = np.linalg.svd(\n",
    "        B, full_matrices=False\n",
    "    )  # the \"full_matrices=False\" matters, otherwise the next line is garbage\n",
    "    Q, S, Ut = np.linalg.svd(np.eye(D) - ut.T @ ut)\n",
    "    S[S < 1e-12] = 0  # set numerically zero to actually zero\n",
    "    Q[np.abs(Q) < 1e-12] = 0  # do the same for the directions\n",
    "    R = Q[:, S != 0]  # only keep directions with nonzero singular value\n",
    "    S = np.sqrt(S[S != 0])\n",
    "\n",
    "    K = R.shape[1]\n",
    "\n",
    "    # now define the sampling function, as per usual for multivariate Gaussians:\n",
    "    def sample():\n",
    "        u = R @ np.reshape(np.sqrt(S) * randn(K), [K, 1])\n",
    "        u /= np.linalg.norm(u)\n",
    "        return u.flatten()\n",
    "\n",
    "    return sample"
   ]
  },
  {
   "cell_type": "markdown",
   "id": "616a27cd-0023-4dcc-b946-86e8bafecc94",
   "metadata": {},
   "source": [
    "#### cutting the slice\n",
    "\n",
    "once we have a point $x_i$ inside the polytope, and can draw directions $s$ from it that all allow nonzero steps within the polytope, we can define the following relatively simple algorithm to analytically find the two end points of the slice:"
   ]
  },
  {
   "cell_type": "code",
   "execution_count": 9,
   "id": "2efebd3a-0324-426e-9b4d-7192546a816c",
   "metadata": {
    "tags": []
   },
   "outputs": [],
   "source": [
    "def project_and_sample(xi, s, A, a):\n",
    "    # take direction d, project the inequality constraints Ax <= a onto it, and sample\n",
    "    y = (A @ xi) - a  # value of inequality constraints\n",
    "    z = A @ s  # projected onto the slice\n",
    "\n",
    "    # find the *tightest* of all constraints in both directions (i.e. towards xi + d and xi - d).\n",
    "    K = len(y)\n",
    "    upper = np.inf\n",
    "    lower = -np.inf\n",
    "    for k in range(K):\n",
    "        if z[k] > 0:\n",
    "            upper = np.minimum(upper, -y[k] / z[k])\n",
    "        elif z[k] < 0:\n",
    "            lower = np.maximum(lower, -y[k] / z[k])\n",
    "\n",
    "    # sanity checks:\n",
    "    assert np.isfinite(lower) and np.isfinite(\n",
    "        upper\n",
    "    ), f\"lower bound {lower} and upper bound {upper}\"  # constraints exist\n",
    "    assert ~np.isclose(upper, lower)  # slice has finite length\n",
    "\n",
    "    # sample:\n",
    "    a = lower + (upper - lower) * np.random.rand()\n",
    "\n",
    "    return xi + a * s"
   ]
  },
  {
   "cell_type": "markdown",
   "id": "c7287727-bab8-4dbd-ac86-2a4350c26626",
   "metadata": {},
   "source": [
    "#### putting it all together\n",
    "\n",
    "if you have solved the above two tasks, you should be able to run the following code that implements the MCMC algorithm:"
   ]
  },
  {
   "cell_type": "code",
   "execution_count": 10,
   "id": "3312487c-742c-471c-a6db-f1dd235b63cf",
   "metadata": {
    "tags": []
   },
   "outputs": [],
   "source": [
    "def MCMC(A, a, B, b, num_iter=int(1e7), thinning=int(1e5)):\n",
    "\n",
    "    print(\"finding initial point.\")\n",
    "    out = linprog(np.ones(D), A_ub=A, b_ub=a, A_eq=B, b_eq=b)\n",
    "    x0 = out.x.flatten()\n",
    "\n",
    "    print(\"precomputing space of search directions\")\n",
    "    sample = construct_directions(B)\n",
    "\n",
    "    print(\"starting MCMC loop\")\n",
    "    samples = np.zeros(shape=(num_iter, D))\n",
    "    samples[0, :] = x0\n",
    "    xi = x0\n",
    "    for i in tqdm(range(num_iter - 1)):\n",
    "        xi = project_and_sample(xi, sample(), A, a)\n",
    "        samples[i + 1, :] = xi\n",
    "\n",
    "    return samples[0::thinning, :]"
   ]
  },
  {
   "cell_type": "code",
   "execution_count": 11,
   "id": "0c2e2017-e825-45c4-88bb-f899257b8a8f",
   "metadata": {
    "tags": []
   },
   "outputs": [
    {
     "name": "stdout",
     "output_type": "stream",
     "text": [
      "finding initial point.\n",
      "precomputing space of search directions\n",
      "starting MCMC loop\n"
     ]
    },
    {
     "name": "stderr",
     "output_type": "stream",
     "text": [
      "  0%|          | 0/99999 [00:00<?, ?it/s]"
     ]
    },
    {
     "name": "stderr",
     "output_type": "stream",
     "text": [
      "\n"
     ]
    },
    {
     "ename": "AssertionError",
     "evalue": "",
     "output_type": "error",
     "traceback": [
      "\u001b[1;31m---------------------------------------------------------------------------\u001b[0m",
      "\u001b[1;31mAssertionError\u001b[0m                            Traceback (most recent call last)",
      "Cell \u001b[1;32mIn[11], line 2\u001b[0m\n\u001b[0;32m      1\u001b[0m S \u001b[38;5;241m=\u001b[39m \u001b[38;5;28mint\u001b[39m(\u001b[38;5;241m1e5\u001b[39m)\n\u001b[1;32m----> 2\u001b[0m SAMPLES \u001b[38;5;241m=\u001b[39m \u001b[43mMCMC\u001b[49m\u001b[43m(\u001b[49m\u001b[43mA\u001b[49m\u001b[43m,\u001b[49m\u001b[43m \u001b[49m\u001b[43ma\u001b[49m\u001b[43m,\u001b[49m\u001b[43m \u001b[49m\u001b[43mB\u001b[49m\u001b[43m,\u001b[49m\u001b[43m \u001b[49m\u001b[43mb\u001b[49m\u001b[43m,\u001b[49m\u001b[43m \u001b[49m\u001b[43mnum_iter\u001b[49m\u001b[38;5;241;43m=\u001b[39;49m\u001b[43mS\u001b[49m\u001b[43m,\u001b[49m\u001b[43m \u001b[49m\u001b[43mthinning\u001b[49m\u001b[38;5;241;43m=\u001b[39;49m\u001b[38;5;28;43mint\u001b[39;49m\u001b[43m(\u001b[49m\u001b[43mS\u001b[49m\u001b[43m \u001b[49m\u001b[38;5;241;43m/\u001b[39;49m\u001b[43m \u001b[49m\u001b[38;5;241;43m100\u001b[39;49m\u001b[43m)\u001b[49m\u001b[43m)\u001b[49m\n",
      "Cell \u001b[1;32mIn[10], line 15\u001b[0m, in \u001b[0;36mMCMC\u001b[1;34m(A, a, B, b, num_iter, thinning)\u001b[0m\n\u001b[0;32m     13\u001b[0m xi \u001b[38;5;241m=\u001b[39m x0\n\u001b[0;32m     14\u001b[0m \u001b[38;5;28;01mfor\u001b[39;00m i \u001b[38;5;129;01min\u001b[39;00m tqdm(\u001b[38;5;28mrange\u001b[39m(num_iter \u001b[38;5;241m-\u001b[39m \u001b[38;5;241m1\u001b[39m)):\n\u001b[1;32m---> 15\u001b[0m     xi \u001b[38;5;241m=\u001b[39m \u001b[43mproject_and_sample\u001b[49m\u001b[43m(\u001b[49m\u001b[43mxi\u001b[49m\u001b[43m,\u001b[49m\u001b[43m \u001b[49m\u001b[43msample\u001b[49m\u001b[43m(\u001b[49m\u001b[43m)\u001b[49m\u001b[43m,\u001b[49m\u001b[43m \u001b[49m\u001b[43mA\u001b[49m\u001b[43m,\u001b[49m\u001b[43m \u001b[49m\u001b[43ma\u001b[49m\u001b[43m)\u001b[49m\n\u001b[0;32m     16\u001b[0m     samples[i \u001b[38;5;241m+\u001b[39m \u001b[38;5;241m1\u001b[39m, :] \u001b[38;5;241m=\u001b[39m xi\n\u001b[0;32m     18\u001b[0m \u001b[38;5;28;01mreturn\u001b[39;00m samples[\u001b[38;5;241m0\u001b[39m::thinning, :]\n",
      "Cell \u001b[1;32mIn[9], line 20\u001b[0m, in \u001b[0;36mproject_and_sample\u001b[1;34m(xi, s, A, a)\u001b[0m\n\u001b[0;32m     16\u001b[0m \u001b[38;5;66;03m# sanity checks:\u001b[39;00m\n\u001b[0;32m     17\u001b[0m \u001b[38;5;28;01massert\u001b[39;00m np\u001b[38;5;241m.\u001b[39misfinite(lower) \u001b[38;5;129;01mand\u001b[39;00m np\u001b[38;5;241m.\u001b[39misfinite(\n\u001b[0;32m     18\u001b[0m     upper\n\u001b[0;32m     19\u001b[0m ), \u001b[38;5;124mf\u001b[39m\u001b[38;5;124m\"\u001b[39m\u001b[38;5;124mlower bound \u001b[39m\u001b[38;5;132;01m{\u001b[39;00mlower\u001b[38;5;132;01m}\u001b[39;00m\u001b[38;5;124m and upper bound \u001b[39m\u001b[38;5;132;01m{\u001b[39;00mupper\u001b[38;5;132;01m}\u001b[39;00m\u001b[38;5;124m\"\u001b[39m  \u001b[38;5;66;03m# constraints exist\u001b[39;00m\n\u001b[1;32m---> 20\u001b[0m \u001b[38;5;28;01massert\u001b[39;00m \u001b[38;5;241m~\u001b[39mnp\u001b[38;5;241m.\u001b[39misclose(upper, lower)  \u001b[38;5;66;03m# slice has finite length\u001b[39;00m\n\u001b[0;32m     22\u001b[0m \u001b[38;5;66;03m# sample:\u001b[39;00m\n\u001b[0;32m     23\u001b[0m a \u001b[38;5;241m=\u001b[39m lower \u001b[38;5;241m+\u001b[39m (upper \u001b[38;5;241m-\u001b[39m lower) \u001b[38;5;241m*\u001b[39m np\u001b[38;5;241m.\u001b[39mrandom\u001b[38;5;241m.\u001b[39mrand()\n",
      "\u001b[1;31mAssertionError\u001b[0m: "
     ]
    }
   ],
   "source": [
    "S = int(1e5)\n",
    "SAMPLES = MCMC(A, a, B, b, num_iter=S, thinning=int(S / 100))"
   ]
  },
  {
   "cell_type": "code",
   "execution_count": null,
   "id": "747a7812-986d-46a6-9c4e-0631cb28dfa1",
   "metadata": {
    "execution": {
     "iopub.execute_input": "2023-08-30T10:48:44.509141Z",
     "iopub.status.busy": "2023-08-30T10:48:44.507794Z",
     "iopub.status.idle": "2023-08-30T10:48:44.813727Z",
     "shell.execute_reply": "2023-08-30T10:48:44.801510Z",
     "shell.execute_reply.started": "2023-08-30T10:48:44.509092Z"
    },
    "tags": []
   },
   "outputs": [
    {
     "data": {
      "image/png": "[encoded data removed]",
      "text/plain": [
       "<Figure size 1102.36x310.039 with 2 Axes>"
      ]
     },
     "metadata": {
      "needs_background": "light"
     },
     "output_type": "display_data"
    }
   ],
   "source": [
    "fig, ax = plt.subplots()\n",
    "im = ax.imshow(np.log10(SAMPLES.T), aspect=\"auto\")\n",
    "ax.set_xlabel(\"# sample\")\n",
    "# ax.set_ylabel('ingredient')\n",
    "ax.set_yticks(np.arange(D))\n",
    "ax.set_yticklabels(Zutaten)\n",
    "cb = fig.colorbar(im)\n",
    "cb.set_label(\"$\\log_{10} x_i$\")\n",
    "\n",
    "# plt.savefig(\"Leberwurst_Samples.png\")"
   ]
  },
  {
   "cell_type": "markdown",
   "id": "3f2634cf-a036-417d-9350-8398e8a59a55",
   "metadata": {},
   "source": [
    "A common way to diagnose MCMC convergence is by computing the [autocorrelation](https://en.wikipedia.org/wiki/Autocorrelation) of samples: We compute the means $\\bar{x} = \\frac{1}{N}\\sum_n ^N x_n$ and then the autocorrelation\n",
    "$$ [C(m)]_i = \\frac{1}{N \\bar{x}_i ^2}\\sum_{n} (x_n - \\bar{x})_i(x_{n-m} - \\bar{x}_{n-m})_i  $$\n",
    "If the Markov Chain is mixing well, we expect this function of $m$ to rapidly drop to 0, and to stochastically stay close to 0."
   ]
  },
  {
   "cell_type": "code",
   "execution_count": null,
   "id": "7508e68e-a5c5-4a81-bc14-9e54c8a147de",
   "metadata": {
    "execution": {
     "iopub.execute_input": "2023-08-30T10:48:46.345312Z",
     "iopub.status.busy": "2023-08-30T10:48:46.344551Z",
     "iopub.status.idle": "2023-08-30T10:48:46.446003Z",
     "shell.execute_reply": "2023-08-30T10:48:46.445542Z",
     "shell.execute_reply.started": "2023-08-30T10:48:46.345261Z"
    },
    "tags": []
   },
   "outputs": [
    {
     "name": "stderr",
     "output_type": "stream",
     "text": [
      "/Library/Frameworks/Python.framework/Versions/3.10/lib/python3.10/site-packages/numpy/lib/function_base.py:2853: RuntimeWarning: invalid value encountered in divide\n",
      "  c /= stddev[:, None]\n"
     ]
    },
    {
     "data": {
      "image/png": "[encoded data removed]",
      "text/plain": [
       "<Figure size 1102.36x310.039 with 1 Axes>"
      ]
     },
     "metadata": {
      "needs_background": "light"
     },
     "output_type": "display_data"
    }
   ],
   "source": [
    "def acf(x, length=50):\n",
    "    return np.array([1] + [np.corrcoef(x[:-i], x[i:])[0, 1] for i in range(1, length)])\n",
    "\n",
    "\n",
    "fig, ax = plt.subplots()\n",
    "for i in range(4):\n",
    "    ax.plot(acf(SAMPLES[:, i]))\n",
    "\n",
    "ax.axhline(0);"
   ]
  },
  {
   "cell_type": "code",
   "execution_count": null,
   "id": "8476f84a-743b-46da-b46c-34b63174fb94",
   "metadata": {
    "execution": {
     "iopub.execute_input": "2023-08-30T10:48:47.105235Z",
     "iopub.status.busy": "2023-08-30T10:48:47.104700Z",
     "iopub.status.idle": "2023-08-30T10:48:47.117597Z",
     "shell.execute_reply": "2023-08-30T10:48:47.116667Z",
     "shell.execute_reply.started": "2023-08-30T10:48:47.105196Z"
    },
    "tags": []
   },
   "outputs": [
    {
     "name": "stdout",
     "output_type": "stream",
     "text": [
      "MCMC predictions from 100 (thinned) samples:\n",
      "========================================================\n",
      "gek. Hülsenfrüchte (braune Berglinsen):    63% +/- 0.00%\n",
      "                             Kokosfett:    12% +/- 5.60%\n",
      "                        Sonnenblumenöl:   7.8% +/- 2.59%\n",
      "geröstete Zwiebeln (in Sonnenblumenöl):   5.8% +/- 2.14%\n",
      "                          Zitronensaft:   4.4% +/- 2.23%\n",
      "                               Gewürze:   3.3% +/- 1.74%\n",
      "                        Agavendicksaft:   2.4% +/- 1.37%\n",
      "                 geräuchertes Meersalz:   1.6% +/- 0.00%\n",
      "========================================================\n"
     ]
    }
   ],
   "source": [
    "# SAMPLES = MCMC(A, a, B, b, num_iter=int(1e6), thinning=int(1e4))\n",
    "mean_sample = np.mean(SAMPLES, axis=0)\n",
    "std_sample = np.std(SAMPLES, axis=0)\n",
    "\n",
    "print(f\"MCMC predictions from {SAMPLES.shape[0]:d} (thinned) samples:\")\n",
    "print(\"=\" * 56)\n",
    "for i, zutat in enumerate(Zutaten):\n",
    "    print(\n",
    "        \"{:>38}\".format(zutat)\n",
    "        + f\": {mean_sample[i] * 100:5.2g}% +/- {2*std_sample[i] * 100:4.2f}%\"\n",
    "    )\n",
    "print(\"=\" * 56)"
   ]
  },
  {
   "cell_type": "markdown",
   "id": "e4d40fa4-ad1d-468f-87e0-ababa7f649a9",
   "metadata": {},
   "source": [
    "---"
   ]
  },
  {
   "cell_type": "markdown",
   "id": "37b81d84-46ed-4568-b1a9-bccc5b1a36a8",
   "metadata": {},
   "source": [
    "Here is the same Spiel for *Pastete*:\n",
    "<img src=\"Pastete.png\" style=\"height: 300px;\"/>"
   ]
  },
  {
   "cell_type": "code",
   "execution_count": null,
   "id": "67914c57-a025-48e5-9146-93dd94688715",
   "metadata": {
    "execution": {
     "iopub.execute_input": "2023-08-30T10:48:49.559429Z",
     "iopub.status.busy": "2023-08-30T10:48:49.558656Z",
     "iopub.status.idle": "2023-08-30T10:48:49.574575Z",
     "shell.execute_reply": "2023-08-30T10:48:49.573924Z",
     "shell.execute_reply.started": "2023-08-30T10:48:49.559383Z"
    },
    "tags": []
   },
   "outputs": [
    {
     "name": "stdout",
     "output_type": "stream",
     "text": [
      "8 ingredients in total\n"
     ]
    }
   ],
   "source": [
    "Zutaten = [\n",
    "    \"gek. Hülsenfrüchte (rote & braune Berglinsen)\",\n",
    "    \"Kokosfett\",\n",
    "    \"Sonnenblumenöl\",\n",
    "    \"Gewüre (u.a. Senf)\",\n",
    "    \"Zitronensaft\",\n",
    "    \"geräuchertes Meersalz\",\n",
    "    \"Agavendicksaft\",\n",
    "    \"Shiitake\",\n",
    "]\n",
    "\n",
    "D = len(Zutaten)\n",
    "print(f\"{D} ingredients in total\")\n",
    "\n",
    "# WE NEED 2D - 1 INEQUALITIES:\n",
    "# * all variables should be >0: (D inequality constraints)\n",
    "# * the i-th variable is larger than the i+1-th variable, for all i in [1,D-1] (D-1 inequalities)\n",
    "#\n",
    "# AND 4 EQUALITIES:\n",
    "# * all variables should sum to 1 (the D-simplex, 1 equality)\n",
    "# * the first variable (gek. Linsen) is 0.66 (1 equality)\n",
    "# * the 2nd and third variables (Fat & Oils) together are equal to 0.25 (1 equality)\n",
    "# * the 6th variable (salt) is 0.015\n",
    "\n",
    "# inequalities\n",
    "A = np.zeros((D + D - 1, D))\n",
    "a = np.zeros(D + D - 1)\n",
    "\n",
    "# first, the >=0 inequality\n",
    "A[0:D, 0:D] = -np.eye(D)  # note the minus, for the >= equality\n",
    "a[0:D] = 0\n",
    "\n",
    "# then the ordering:\n",
    "for i in range(D - 1):\n",
    "    A[D + i, i + 1] = 1\n",
    "    A[D + i, i] = -1\n",
    "    a[D + i] = 0\n",
    "\n",
    "# equalities\n",
    "B = np.zeros((4, D))\n",
    "b = np.zeros(4)\n",
    "\n",
    "# they all sum to 1:\n",
    "B[0, :] = 1\n",
    "b[0] = 1\n",
    "\n",
    "# the first variable (Linsen) is 0.66:\n",
    "B[1, 0] = 1\n",
    "b[1] = 0.66\n",
    "\n",
    "# * the 2nd and third variables (Fat & Oils) together are equal to 0.25 (1 equality)\n",
    "B[2, 1] = 1\n",
    "B[2, 2] = 1\n",
    "b[2] = 0.25\n",
    "\n",
    "# * the 6th variable (salt) is 0.015\n",
    "B[3, 5] = 1\n",
    "b[3] = 0.015"
   ]
  },
  {
   "cell_type": "code",
   "execution_count": null,
   "id": "7a76b936-ed0e-42f5-a073-5d96e88c0fba",
   "metadata": {
    "execution": {
     "iopub.execute_input": "2023-08-30T10:48:50.213400Z",
     "iopub.status.busy": "2023-08-30T10:48:50.212758Z",
     "iopub.status.idle": "2023-08-30T10:48:53.395392Z",
     "shell.execute_reply": "2023-08-30T10:48:53.395104Z",
     "shell.execute_reply.started": "2023-08-30T10:48:50.213368Z"
    },
    "tags": []
   },
   "outputs": [
    {
     "name": "stdout",
     "output_type": "stream",
     "text": [
      "finding initial point.\n",
      "precomputing space of search directions\n",
      "starting MCMC loop\n"
     ]
    },
    {
     "name": "stderr",
     "output_type": "stream",
     "text": [
      "100%|██████████████████████████████████| 99999/99999 [00:03<00:00, 31604.70it/s]"
     ]
    },
    {
     "name": "stdout",
     "output_type": "stream",
     "text": [
      "MCMC predictions from 100 (thinned) samples:\n",
      "==================================================================\n",
      "   gek. Hülsenfrüchte (rote & braune Berglinsen):    66% +/- 0.00%\n",
      "                                       Kokosfett:    17% +/- 5.32%\n",
      "                                  Sonnenblumenöl:   8.2% +/- 5.32%\n",
      "                              Gewüre (u.a. Senf):   3.8% +/- 1.28%\n",
      "                                    Zitronensaft:   2.3% +/- 0.95%\n",
      "                           geräuchertes Meersalz:   1.5% +/- 0.00%\n",
      "                                  Agavendicksaft:  0.92% +/- 0.75%\n",
      "                                        Shiitake:  0.48% +/- 0.69%\n",
      "==================================================================\n"
     ]
    },
    {
     "name": "stderr",
     "output_type": "stream",
     "text": [
      "\n"
     ]
    }
   ],
   "source": [
    "S = int(1e5)\n",
    "SAMPLES = MCMC(A, a, B, b, num_iter=S, thinning=int(S / 100))\n",
    "\n",
    "mean_sample = np.mean(SAMPLES, axis=0)\n",
    "std_sample = np.std(SAMPLES, axis=0)\n",
    "\n",
    "print(f\"MCMC predictions from {SAMPLES.shape[0]:d} (thinned) samples:\")\n",
    "print(\"=\" * 66)\n",
    "for i, zutat in enumerate(Zutaten):\n",
    "    print(\n",
    "        \"{:>48}\".format(zutat)\n",
    "        + f\": {mean_sample[i] * 100:5.2g}% +/- {2*std_sample[i] * 100:4.2f}%\"\n",
    "    )\n",
    "print(\"=\" * 66)"
   ]
  },
  {
   "cell_type": "markdown",
   "id": "93be6330-ae83-471a-8e36-ee89944be45d",
   "metadata": {},
   "source": [
    "... and for Teewurst\n",
    "\n",
    "<img src=\"HediTeewurst.png\" style=\"height: 300px;\"/>"
   ]
  },
  {
   "cell_type": "code",
   "execution_count": null,
   "id": "a959f756-45f7-497a-8a23-e82ec152464f",
   "metadata": {
    "execution": {
     "iopub.execute_input": "2023-02-01T19:20:31.931037Z",
     "iopub.status.busy": "2023-02-01T19:20:31.930339Z",
     "iopub.status.idle": "2023-02-01T19:20:31.944928Z",
     "shell.execute_reply": "2023-02-01T19:20:31.944096Z",
     "shell.execute_reply.started": "2023-02-01T19:20:31.931013Z"
    },
    "tags": []
   },
   "outputs": [
    {
     "name": "stdout",
     "output_type": "stream",
     "text": [
      "7 ingredients in total\n"
     ]
    }
   ],
   "source": [
    "Zutaten = [\n",
    "    \"gek. Hülsenfrüchte (rote Linsen)\",\n",
    "    \"Sonnenblumenöl\",\n",
    "    \"Kokosfett\",\n",
    "    \"Tomatenmark\",\n",
    "    \"geräuchertes Meersalz\",\n",
    "    \"Gewürze (u.a. Sellerie, Senf)\",\n",
    "    \"Zitronensaft\",\n",
    "]\n",
    "\n",
    "D = len(Zutaten)\n",
    "print(f\"{D} ingredients in total\")\n",
    "\n",
    "# WE NEED 2D - 1 INEQUALITIES:\n",
    "# * all variables should be >0: (D inequality constraints)\n",
    "# * the i-th variable is larger than the i+1-th variable, for all i in [1,D-1] (D-1 inequalities)\n",
    "#\n",
    "# AND 4 EQUALITIES:\n",
    "# * all variables should sum to 1 (the D-simplex, 1 equality)\n",
    "# * the first variable (gek. Linsen) is 0.55 (1 equality)\n",
    "# * the 2nd and third variables (Fat & Oils) together are equal to 0.31 (1 equality)\n",
    "# * the 5th variable (salt) is 0.02\n",
    "\n",
    "# inequalities\n",
    "A = np.zeros((D + D - 1, D))\n",
    "a = np.zeros(D + D - 1)\n",
    "\n",
    "# first, the >=0 inequality\n",
    "A[0:D, 0:D] = -np.eye(D)  # note the minus, for the >= equality\n",
    "a[0:D] = 0\n",
    "\n",
    "# then the ordering:\n",
    "for i in range(D - 1):\n",
    "    A[D + i, i + 1] = 1\n",
    "    A[D + i, i] = -1\n",
    "    a[D + i] = 0\n",
    "\n",
    "# equalities\n",
    "B = np.zeros((4, D))\n",
    "b = np.zeros(4)\n",
    "\n",
    "# they all sum to 1:\n",
    "B[0, :] = 1\n",
    "b[0] = 1\n",
    "\n",
    "# the first variable (Linsen) is 0.55:\n",
    "B[1, 0] = 1\n",
    "b[1] = 0.55\n",
    "\n",
    "# * the 2nd and third variables (Fat & Oils) together are equal to 0.31 (1 equality)\n",
    "B[2, 1] = 1\n",
    "B[2, 2] = 1\n",
    "b[2] = 0.31\n",
    "\n",
    "# * the 5th variable (salt) is 0.015\n",
    "B[3, 4] = 1\n",
    "b[3] = 0.02"
   ]
  },
  {
   "cell_type": "code",
   "execution_count": null,
   "id": "862d7605-15c3-43a8-85c1-987090f57b21",
   "metadata": {
    "execution": {
     "iopub.execute_input": "2023-02-01T19:20:37.917900Z",
     "iopub.status.busy": "2023-02-01T19:20:37.917222Z",
     "iopub.status.idle": "2023-02-01T19:20:40.982125Z",
     "shell.execute_reply": "2023-02-01T19:20:40.981799Z",
     "shell.execute_reply.started": "2023-02-01T19:20:37.917863Z"
    }
   },
   "outputs": [
    {
     "name": "stdout",
     "output_type": "stream",
     "text": [
      "finding initial point.\n",
      "precomputing space of search directions\n",
      "starting MCMC loop\n"
     ]
    },
    {
     "name": "stderr",
     "output_type": "stream",
     "text": [
      "100%|██████████████████████████████████| 99999/99999 [00:03<00:00, 32803.11it/s]"
     ]
    },
    {
     "name": "stdout",
     "output_type": "stream",
     "text": [
      "MCMC predictions from 100 (thinned) samples:\n",
      "==================================================================\n",
      "                gek. Hülsenfrüchte (rote Linsen):    55% +/- 0.00%\n",
      "                                  Sonnenblumenöl:    18% +/- 3.38%\n",
      "                                       Kokosfett:    13% +/- 3.38%\n",
      "                                     Tomatenmark:   9.9% +/- 1.43%\n",
      "                           geräuchertes Meersalz:     2% +/- 0.00%\n",
      "                   Gewürze (u.a. Sellerie, Senf):   1.4% +/- 0.79%\n",
      "                                    Zitronensaft:  0.71% +/- 0.88%\n",
      "==================================================================\n"
     ]
    },
    {
     "name": "stderr",
     "output_type": "stream",
     "text": [
      "\n"
     ]
    }
   ],
   "source": [
    "S = int(1e5)\n",
    "SAMPLES = MCMC(A, a, B, b, num_iter=S, thinning=int(S / 100))\n",
    "\n",
    "mean_sample = np.mean(SAMPLES, axis=0)\n",
    "std_sample = np.std(SAMPLES, axis=0)\n",
    "\n",
    "print(f\"MCMC predictions from {SAMPLES.shape[0]:d} (thinned) samples:\")\n",
    "print(\"=\" * 66)\n",
    "for i, zutat in enumerate(Zutaten):\n",
    "    print(\n",
    "        \"{:>48}\".format(zutat)\n",
    "        + f\": {mean_sample[i] * 100:5.2g}% +/- {2*std_sample[i] * 100:4.2f}%\"\n",
    "    )\n",
    "print(\"=\" * 66)"
   ]
  },
  {
   "cell_type": "markdown",
   "id": "62ed3870-82f4-4801-a4cd-764193c25076",
   "metadata": {},
   "source": [
    "Und Cabanossi:"
   ]
  },
  {
   "cell_type": "code",
   "execution_count": null,
   "id": "fbd39cd2-292c-4af9-b23a-048bbdfbc771",
   "metadata": {
    "execution": {
     "iopub.execute_input": "2023-02-01T19:53:35.151183Z",
     "iopub.status.busy": "2023-02-01T19:53:35.150813Z",
     "iopub.status.idle": "2023-02-01T19:53:35.166374Z",
     "shell.execute_reply": "2023-02-01T19:53:35.163498Z",
     "shell.execute_reply.started": "2023-02-01T19:53:35.151160Z"
    },
    "tags": []
   },
   "outputs": [
    {
     "name": "stdout",
     "output_type": "stream",
     "text": [
      "9 ingredients in total\n"
     ]
    }
   ],
   "source": [
    "Zutaten = [\n",
    "    \"gek. Hülsenfrüchte (rote Linsen)\",\n",
    "    \"Kokosfett\",\n",
    "    \"Sonnenblumenöl\",\n",
    "    \"Gewürze (u.a. Sellerie, Senf)\",\n",
    "    \"Tomatenmark\",\n",
    "    \"geräuchertes Meersalz\",\n",
    "    \"Zitronensaft\",\n",
    "    \"Agavendicksaft\",\n",
    "    \"Chili\",\n",
    "]\n",
    "\n",
    "D = len(Zutaten)\n",
    "print(f\"{D} ingredients in total\")\n",
    "\n",
    "# WE NEED 2D - 1 INEQUALITIES:\n",
    "# * all variables should be >0: (D inequality constraints)\n",
    "# * the i-th variable is larger than the i+1-th variable, for all i in [1,D-1] (D-1 inequalities)\n",
    "#\n",
    "# AND 4 EQUALITIES:\n",
    "# * all variables should sum to 1 (the D-simplex, 1 equality)\n",
    "# * the first variable (gek. Linsen) is 0.61 (1 equality)\n",
    "# * the 2nd and third variables (Fat & Oils) together are equal to 0.28 (1 equality)\n",
    "# * the 6th variable (salt) is 0.021\n",
    "\n",
    "# inequalities\n",
    "A = np.zeros((D + D - 1, D))\n",
    "a = np.zeros(D + D - 1)\n",
    "\n",
    "# first, the >=0 inequality\n",
    "A[0:D, 0:D] = -np.eye(D)  # note the minus, for the >= equality\n",
    "a[0:D] = 0\n",
    "\n",
    "# then the ordering:\n",
    "for i in range(D - 1):\n",
    "    A[D + i, i + 1] = 1\n",
    "    A[D + i, i] = -1\n",
    "    a[D + i] = 0\n",
    "\n",
    "# equalities\n",
    "B = np.zeros((4, D))\n",
    "b = np.zeros(4)\n",
    "\n",
    "# they all sum to 1:\n",
    "B[0, :] = 1\n",
    "b[0] = 1\n",
    "\n",
    "# the first variable (Linsen) is 0.61:\n",
    "B[1, 0] = 1\n",
    "b[1] = 0.61\n",
    "\n",
    "# * the 2nd and third variables (Fat & Oils) together are equal to 0.28 (1 equality)\n",
    "B[2, 1] = 1\n",
    "B[2, 2] = 1\n",
    "b[2] = 0.28\n",
    "\n",
    "# * the 6th variable (salt) is 0.015\n",
    "B[3, 5] = 1\n",
    "b[3] = 0.021"
   ]
  },
  {
   "cell_type": "code",
   "execution_count": null,
   "id": "96362004-2aff-4b4b-9a2b-426664a7e566",
   "metadata": {
    "execution": {
     "iopub.execute_input": "2023-02-01T19:53:39.864258Z",
     "iopub.status.busy": "2023-02-01T19:53:39.863611Z",
     "iopub.status.idle": "2023-02-01T19:53:43.062644Z",
     "shell.execute_reply": "2023-02-01T19:53:43.062379Z",
     "shell.execute_reply.started": "2023-02-01T19:53:39.864211Z"
    }
   },
   "outputs": [
    {
     "name": "stdout",
     "output_type": "stream",
     "text": [
      "finding initial point.\n",
      "precomputing space of search directions\n",
      "starting MCMC loop\n"
     ]
    },
    {
     "name": "stderr",
     "output_type": "stream",
     "text": [
      "100%|██████████████████████████████████| 99999/99999 [00:03<00:00, 31450.72it/s]"
     ]
    },
    {
     "name": "stdout",
     "output_type": "stream",
     "text": [
      "MCMC predictions from 100 (thinned) samples:\n",
      "==================================================================\n",
      "                gek. Hülsenfrüchte (rote Linsen):    61% +/- 0.00%\n",
      "                                       Kokosfett:    19% +/- 5.93%\n",
      "                                  Sonnenblumenöl:   8.7% +/- 5.93%\n",
      "                   Gewürze (u.a. Sellerie, Senf):   3.7% +/- 1.44%\n",
      "                                     Tomatenmark:   2.7% +/- 0.82%\n",
      "                           geräuchertes Meersalz:   2.1% +/- 0.00%\n",
      "                                    Zitronensaft:   1.4% +/- 0.89%\n",
      "                                  Agavendicksaft:  0.76% +/- 0.75%\n",
      "                                           Chili:  0.31% +/- 0.53%\n",
      "==================================================================\n"
     ]
    },
    {
     "name": "stderr",
     "output_type": "stream",
     "text": [
      "\n"
     ]
    }
   ],
   "source": [
    "S = int(1e5)\n",
    "SAMPLES = MCMC(A, a, B, b, num_iter=S, thinning=int(S / 100))\n",
    "\n",
    "mean_sample = np.mean(SAMPLES, axis=0)\n",
    "std_sample = np.std(SAMPLES, axis=0)\n",
    "\n",
    "print(f\"MCMC predictions from {SAMPLES.shape[0]:d} (thinned) samples:\")\n",
    "print(\"=\" * 66)\n",
    "for i, zutat in enumerate(Zutaten):\n",
    "    print(\n",
    "        \"{:>48}\".format(zutat)\n",
    "        + f\": {mean_sample[i] * 100:5.2g}% +/- {2*std_sample[i] * 100:4.2f}%\"\n",
    "    )\n",
    "print(\"=\" * 66)"
   ]
  },
  {
   "cell_type": "markdown",
   "id": "70e83f64-a014-497d-ba37-a3df46c3e3a4",
   "metadata": {},
   "source": [
    "Und Currywurst:"
   ]
  },
  {
   "cell_type": "code",
   "execution_count": null,
   "id": "6e7718b0-7687-4580-bf2d-810bb76a99e1",
   "metadata": {
    "execution": {
     "iopub.execute_input": "2023-02-01T20:07:48.012785Z",
     "iopub.status.busy": "2023-02-01T20:07:48.012143Z",
     "iopub.status.idle": "2023-02-01T20:07:48.028071Z",
     "shell.execute_reply": "2023-02-01T20:07:48.027317Z",
     "shell.execute_reply.started": "2023-02-01T20:07:48.012740Z"
    },
    "tags": []
   },
   "outputs": [
    {
     "name": "stdout",
     "output_type": "stream",
     "text": [
      "11 ingredients in total\n"
     ]
    }
   ],
   "source": [
    "Zutaten = [\n",
    "    \"gek. Hülsenfrüchte (rote Linsen)\",\n",
    "    \"Kokosfett\",\n",
    "    \"passierte Tomaten\",\n",
    "    \"Sonnenblumenöl\",\n",
    "    \"Agavendicksaft\",\n",
    "    \"Tomatenmark\",\n",
    "    \"Gewürze (Curry!)\",\n",
    "    \"geräuchertes Meersalz\",\n",
    "    \"geröstete Zwiebeln\",\n",
    "    \"Zitronensaft\",\n",
    "    \"Shiitake\",\n",
    "]\n",
    "\n",
    "D = len(Zutaten)\n",
    "print(f\"{D} ingredients in total\")\n",
    "\n",
    "# WE NEED 2D - 1 INEQUALITIES:\n",
    "# * all variables should be >0: (D inequality constraints)\n",
    "# * the i-th variable is larger than the i+1-th variable, for all i in [1,D-1] (D-1 inequalities)\n",
    "#\n",
    "# AND 4 EQUALITIES:\n",
    "# * all variables should sum to 1 (the D-simplex, 1 equality)\n",
    "# * the first variable (gek. Linsen) is 0.50 (1 equality)\n",
    "# * the 3nd and 4th variables (Fat & Oils) together are equal to 0.21 (1 equality)\n",
    "# * the 8th variable (salt) is 0.021\n",
    "\n",
    "# inequalities\n",
    "A = np.zeros((D + D - 1, D))\n",
    "a = np.zeros(D + D - 1)\n",
    "\n",
    "# first, the >=0 inequality\n",
    "A[0:D, 0:D] = -np.eye(D)  # note the minus, for the >= equality\n",
    "a[0:D] = 0\n",
    "\n",
    "# then the ordering:\n",
    "for i in range(D - 1):\n",
    "    A[D + i, i + 1] = 1\n",
    "    A[D + i, i] = -1\n",
    "    a[D + i] = 0\n",
    "\n",
    "# equalities\n",
    "B = np.zeros((4, D))\n",
    "b = np.zeros(4)\n",
    "\n",
    "# they all sum to 1:\n",
    "B[0, :] = 1\n",
    "b[0] = 1\n",
    "\n",
    "# the first variable (Linsen) is 0.50:\n",
    "B[1, 0] = 1\n",
    "b[1] = 0.50\n",
    "\n",
    "# * the 3nd and fourth variables (Fat & Oils) together are equal to 0.21 (1 equality)\n",
    "B[2, 1] = 1\n",
    "B[2, 2] = 1\n",
    "b[2] = 0.21\n",
    "\n",
    "# * the 8th variable (salt) is 0.021\n",
    "B[3, 7] = 1\n",
    "b[3] = 0.021"
   ]
  },
  {
   "cell_type": "code",
   "execution_count": null,
   "id": "3a01eda8-374b-496e-81ba-0cfecc0d0a75",
   "metadata": {
    "execution": {
     "iopub.execute_input": "2023-02-01T20:07:48.330451Z",
     "iopub.status.busy": "2023-02-01T20:07:48.329792Z",
     "iopub.status.idle": "2023-02-01T20:07:51.806209Z",
     "shell.execute_reply": "2023-02-01T20:07:51.805889Z",
     "shell.execute_reply.started": "2023-02-01T20:07:48.330404Z"
    },
    "tags": []
   },
   "outputs": [
    {
     "name": "stdout",
     "output_type": "stream",
     "text": [
      "finding initial point.\n",
      "precomputing space of search directions\n",
      "starting MCMC loop\n"
     ]
    },
    {
     "name": "stderr",
     "output_type": "stream",
     "text": [
      "100%|██████████████████████████████████| 99999/99999 [00:03<00:00, 28916.85it/s]"
     ]
    },
    {
     "name": "stdout",
     "output_type": "stream",
     "text": [
      "MCMC predictions from 100 (thinned) samples:\n",
      "==================================================================\n",
      "                gek. Hülsenfrüchte (rote Linsen):    50% +/- 0.00%\n",
      "                                       Kokosfett:    12% +/- 1.67%\n",
      "                               passierte Tomaten:   9.4% +/- 1.67%\n",
      "                                  Sonnenblumenöl:   8.3% +/- 1.91%\n",
      "                                  Agavendicksaft:   6.9% +/- 1.62%\n",
      "                                     Tomatenmark:   5.2% +/- 1.85%\n",
      "                                Gewürze (Curry!):   3.5% +/- 1.70%\n",
      "                           geräuchertes Meersalz:   2.1% +/- 0.00%\n",
      "                              geröstete Zwiebeln:   1.5% +/- 0.78%\n",
      "                                    Zitronensaft:     1% +/- 0.90%\n",
      "                                        Shiitake:  0.53% +/- 0.81%\n",
      "==================================================================\n"
     ]
    },
    {
     "name": "stderr",
     "output_type": "stream",
     "text": [
      "\n"
     ]
    }
   ],
   "source": [
    "S = int(1e5)\n",
    "SAMPLES = MCMC(A, a, B, b, num_iter=S, thinning=int(S / 100))\n",
    "\n",
    "mean_sample = np.mean(SAMPLES, axis=0)\n",
    "std_sample = np.std(SAMPLES, axis=0)\n",
    "\n",
    "print(f\"MCMC predictions from {SAMPLES.shape[0]:d} (thinned) samples:\")\n",
    "print(\"=\" * 66)\n",
    "for i, zutat in enumerate(Zutaten):\n",
    "    print(\n",
    "        \"{:>48}\".format(zutat)\n",
    "        + f\": {mean_sample[i] * 100:5.2g}% +/- {2*std_sample[i] * 100:4.2f}%\"\n",
    "    )\n",
    "print(\"=\" * 66)"
   ]
  },
  {
   "cell_type": "code",
   "execution_count": null,
   "id": "83fdf688-6b66-4e84-9b52-a680353957e7",
   "metadata": {},
   "outputs": [],
   "source": []
  }
 ],
 "metadata": {
  "kernelspec": {
   "display_name": "Python 3 (ipykernel)",
   "language": "python",
   "name": "python3"
  },
  "language_info": {
   "codemirror_mode": {
    "name": "ipython",
    "version": 3
   },
   "file_extension": ".py",
   "mimetype": "text/x-python",
   "name": "python",
   "nbconvert_exporter": "python",
   "pygments_lexer": "ipython3",
   "version": "3.12.1"
  }
 },
 "nbformat": 4,
 "nbformat_minor": 5
}
